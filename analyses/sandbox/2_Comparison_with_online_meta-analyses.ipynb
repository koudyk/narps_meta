{
 "cells": [
  {
   "cell_type": "markdown",
   "metadata": {},
   "source": [
    "# Visualizing results of onine meta analyses of the same topic\n",
    "\n",
    "I searched for the term \"decision making\" in these two websites, and downloaded the results:\n",
    "- NeuroSynth: https://neuroquery.saclay.inria.fr/ \n",
    "- NeuroQuery: https://neuroquery.saclay.inria.fr/ \n"
   ]
  },
  {
   "cell_type": "code",
   "execution_count": 1,
   "metadata": {},
   "outputs": [],
   "source": [
    "import warnings\n",
    "warnings.filterwarnings(\"ignore\")\n",
    "import functions as fun # functions mostly written by Alexendre Perez\n",
    "from nistats import thresholding\n",
    "import numpy as np\n",
    "import nibabel as nib\n",
    "import nibabel.processing\n",
    "import nilearn\n",
    "from nilearn import masking, plotting, image\n",
    "import matplotlib.pyplot as plt\n",
    "import matplotlib.pyplot as plt\n",
    "import matplotlib\n",
    "import seaborn as sns\n",
    "import scipy.stats as st\n",
    "from netneurotools import stats as nnstats\n",
    "from netneurotools import datasets as nndata\n",
    "\n",
    "template = nilearn.datasets.load_mni152_template()\n",
    "affine = template.affine\n",
    "\n",
    "level = .05\n",
    "height_control = 'fdr'\n",
    "cluster_threshold = 1\n",
    "sample_size=119\n",
    "\n",
    "%matplotlib inline\n",
    "cut_coords=(0, 0, 0)\n",
    "save_figs = False\n",
    "\n",
    "hypothesis = 1"
   ]
  },
  {
   "cell_type": "markdown",
   "metadata": {},
   "source": [
    "## Get data paths and threshold maps"
   ]
  },
  {
   "cell_type": "code",
   "execution_count": 2,
   "metadata": {},
   "outputs": [],
   "source": [
    "# NEUROQUERY\n",
    "NQ_path = '../data-narps/NQ_loss_aversion_in_decisionmaking_under_risk.nii.gz'\n",
    "NQ_t = thresholding.map_threshold(NQ_path, alpha=level,\n",
    "                               height_control=height_control,\n",
    "                               cluster_threshold=cluster_threshold)[0]\n",
    "\n",
    "# LEVEL-3 META-ANALYTIC RESULT\n",
    "L3_path = '../data-narps/results1_hypo%d_Level-3-t-map.nii.gz' %hypothesis\n",
    "L3_t = '../data-narps/results1_hypo%d_Level-3-t-map---thresholded.nii.gz' %hypothesis\n",
    "\n",
    "# LEVEL-2 RESULTS\n",
    "L2s_path = fun.get_data_paths_from_orig('hypo%d_unthresh.nii.gz' %hypothesis)\n",
    "\n",
    "N_img = 5\n",
    "L2s_path = L2s_path[:N_img]"
   ]
  },
  {
   "cell_type": "markdown",
   "metadata": {},
   "source": [
    "## Convert volumes to surfaces \n",
    "So that the spin test can be used to test the significance of the similarity between maps (the spin test works on surfaces)"
   ]
  },
  {
   "cell_type": "code",
   "execution_count": 3,
   "metadata": {
    "scrolled": true
   },
   "outputs": [],
   "source": [
    "# sample the 3D volume data onto a surface mesh\n",
    "from nilearn import datasets\n",
    "fsaverage = datasets.fetch_surf_fsaverage('fsaverage5') #('fsaverage') # cortical mesh\n",
    "\n",
    "from nilearn import surface\n",
    "def get_surface(vol_path, hemi):\n",
    "    if hemi == 'left': surf_mesh = fsaverage.pial_left\n",
    "    if hemi == 'right': surf_mesh = fsaverage.pial_right\n",
    "    surf = surface.vol_to_surf(img=vol_path, surf_mesh=surf_mesh, mask_img=template)\n",
    "    surf = np.nan_to_num(surf, nan=0)\n",
    "    if len(surf.shape) < 2: surf = np.expand_dims(np.array(surf), axis=1)\n",
    "    return surf\n",
    "    \n",
    "# level-3 results\n",
    "L3_L = get_surface(L3_path, hemi='left')\n",
    "L3_R = get_surface(L3_path, hemi='right')\n",
    "\n",
    "# neuroquery results\n",
    "NQ_L = get_surface(NQ_path, hemi='left')\n",
    "NQ_R = get_surface(NQ_path, hemi='right')\n",
    "\n",
    "# level-2 results\n",
    "for n, path in enumerate(L2s_path):\n",
    "    L = get_surface(path, hemi='left')\n",
    "    R = get_surface(path, hemi='right')\n",
    "    if n == 0:\n",
    "        L2s_L = L\n",
    "        L2s_R = R\n",
    "        vertex = np.argmax(L) # for selecting vertices to plot\n",
    "    else:\n",
    "        L2s_L = np.concatenate((L, L2s_L), axis=1)\n",
    "        L2s_R = np.concatenate((R, L2s_R), axis=1)"
   ]
  },
  {
   "cell_type": "markdown",
   "metadata": {},
   "source": [
    "## Measure similarity"
   ]
  },
  {
   "cell_type": "markdown",
   "metadata": {},
   "source": [
    "### Similarity between level-3 results & NeuroQuery results"
   ]
  },
  {
   "cell_type": "code",
   "execution_count": 4,
   "metadata": {},
   "outputs": [
    {
     "name": "stdout",
     "output_type": "stream",
     "text": [
      "0.17705008268187633 0.17170031058287497 0.17729523115521048\n"
     ]
    }
   ],
   "source": [
    "# concatenate hemispheres\n",
    "L3 = np.concatenate((L3_R, L3_L), axis=0)\n",
    "NQ = np.concatenate((NQ_R, NQ_L), axis=0)\n",
    "\n",
    "# whole brain\n",
    "rs_NQ_L3 = st.spearmanr(a=NQ, b=L3, axis=0, nan_policy='omit')[0]\n",
    "\n",
    "# hemispheres separate\n",
    "rs_NQ_L3_L = st.spearmanr(a=NQ_L, b=L3_L, axis=0, nan_policy='omit')[0]\n",
    "rs_NQ_L3_R = st.spearmanr(a=NQ_R, b=L3_R, axis=0, nan_policy='omit')[0]\n",
    "\n",
    "# results\n",
    "print(rs_NQ_L3, rs_NQ_L3_L, rs_NQ_L3_R)"
   ]
  },
  {
   "cell_type": "markdown",
   "metadata": {},
   "source": [
    "#### Visualize similarity"
   ]
  },
  {
   "cell_type": "code",
   "execution_count": 5,
   "metadata": {},
   "outputs": [
    {
     "data": {
      "text/plain": [
       "Text(0.5, 1.0, '$R_{spearman}$ = 0.177050')"
      ]
     },
     "execution_count": 5,
     "metadata": {},
     "output_type": "execute_result"
    },
    {
     "data": {
      "image/png": "[encoded data removed]",
      "text/plain": [
       "<Figure size 432x288 with 1 Axes>"
      ]
     },
     "metadata": {
      "needs_background": "light"
     },
     "output_type": "display_data"
    }
   ],
   "source": [
    "plt.scatter(L3, NQ)\n",
    "plt.xlabel('Level-3 result (z-scores)')\n",
    "plt.ylabel('NeuroQuery result (z-scores)')\n",
    "plt.title('$R_{spearman}$ = %f' %rs_NQ_L3)"
   ]
  },
  {
   "cell_type": "markdown",
   "metadata": {},
   "source": [
    "#### Significance of similarity"
   ]
  },
  {
   "cell_type": "markdown",
   "metadata": {},
   "source": [
    "First, we'll grab the spherical projections of the fsaverage6 surface and extract the vertex coordinates:"
   ]
  },
  {
   "cell_type": "code",
   "execution_count": 6,
   "metadata": {},
   "outputs": [],
   "source": [
    "import nibabel as nib\n",
    "\n",
    "# if you have FreeSurfer installed on your computer this will simply grab the\n",
    "# relevant files from the $SUBJECTS_DIR directory; otherwise, it will download\n",
    "# them to the $HOME/nnt-data/tpl-fsaverage directory\n",
    "lhsphere, rhsphere = nndata.fetch_fsaverage('fsaverage5', verbose=0)['sphere']\n",
    "lhvert, lhface = nib.freesurfer.read_geometry(lhsphere)\n",
    "rhvert, rhface = nib.freesurfer.read_geometry(rhsphere)"
   ]
  },
  {
   "cell_type": "markdown",
   "metadata": {},
   "source": [
    "Then, we'll provide these to the function for generating the spin-based resampling array. We also need an indicator array designating which coordinates belong to which hemisphere so we'll create that first:"
   ]
  },
  {
   "cell_type": "code",
   "execution_count": 7,
   "metadata": {},
   "outputs": [
    {
     "name": "stdout",
     "output_type": "stream",
     "text": [
      "(20484, 10)\n",
      "[[10085  2792  2813 ...   152  2778  8691]\n",
      " [ 2715  2805  2201 ...  5982  3714  5015]\n",
      " [ 8411  5802  4997 ...  4935  5188  5801]\n",
      " ...\n",
      " [10972 10594 10820 ... 12874 11585 19898]\n",
      " [10972 17395 15521 ... 12874 15712 19897]\n",
      " [14335 11657 15522 ... 12872 17270 10684]]\n"
     ]
    }
   ],
   "source": [
    "coords = np.vstack([lhvert, rhvert])\n",
    "hemi = [0] * len(lhvert) + [1] * len(rhvert)\n",
    "spins, cost = nnstats.gen_spinsamples(coords, hemi, n_rotate=10, seed=1234)\n",
    "print(spins.shape)\n",
    "print(spins)"
   ]
  },
  {
   "cell_type": "markdown",
   "metadata": {},
   "source": [
    "Then, we'll provide these to the function for generating the spin-based resampling array. We also need an indicator array designating which coordinates belong to which hemisphere so we'll create that first:"
   ]
  },
  {
   "cell_type": "code",
   "execution_count": 8,
   "metadata": {},
   "outputs": [
    {
     "name": "stdout",
     "output_type": "stream",
     "text": [
      "Rotation  1: 18880 vertices\n",
      "Rotation  2: 19022 vertices\n",
      "Rotation  3: 18986 vertices\n",
      "Rotation  4: 18911 vertices\n",
      "Rotation  5: 18954 vertices\n",
      "Rotation  6: 18872 vertices\n",
      "Rotation  7: 18830 vertices\n",
      "Rotation  8: 18906 vertices\n",
      "Rotation  9: 19014 vertices\n",
      "Rotation 10: 19310 vertices\n"
     ]
    }
   ],
   "source": [
    "for rotation in range(10):\n",
    "    uniq = len(np.unique(spins[:, rotation]))\n",
    "    print('Rotation {:>2}: {} vertices' #, {:.2f} mm / vertex'\n",
    "          .format(rotation + 1, uniq)) #, cost[rotation] / len(spins)))"
   ]
  },
  {
   "cell_type": "code",
   "execution_count": 9,
   "metadata": {},
   "outputs": [
    {
     "data": {
      "text/plain": [
       "array([1.89020219, 1.60799861, 0.83718874, 2.04336824, 2.0150525 ,\n",
       "       1.83675594, 1.11516904, 1.29755506, 0.99803089, 1.26752999])"
      ]
     },
     "execution_count": 9,
     "metadata": {},
     "output_type": "execute_result"
    }
   ],
   "source": [
    "cost[rotation]"
   ]
  },
  {
   "cell_type": "markdown",
   "metadata": {},
   "source": [
    "### Similarity between level-2 results & NeuroQuery results, for each analysis team"
   ]
  },
  {
   "cell_type": "code",
   "execution_count": 10,
   "metadata": {},
   "outputs": [
    {
     "ename": "NameError",
     "evalue": "name 'narps_ds_data' is not defined",
     "output_type": "error",
     "traceback": [
      "\u001b[0;31m---------------------------------------------------------------------------\u001b[0m",
      "\u001b[0;31mNameError\u001b[0m                                 Traceback (most recent call last)",
      "\u001b[0;32m<ipython-input-10-f7024e5e0385>\u001b[0m in \u001b[0;36m<module>\u001b[0;34m\u001b[0m\n\u001b[1;32m      4\u001b[0m \u001b[0mrp_teams_nq\u001b[0m \u001b[0;34m=\u001b[0m \u001b[0;34m[\u001b[0m\u001b[0;34m]\u001b[0m\u001b[0;34m\u001b[0m\u001b[0;34m\u001b[0m\u001b[0m\n\u001b[1;32m      5\u001b[0m \u001b[0mrs_teams_nq\u001b[0m \u001b[0;34m=\u001b[0m \u001b[0;34m[\u001b[0m\u001b[0;34m]\u001b[0m\u001b[0;34m\u001b[0m\u001b[0;34m\u001b[0m\u001b[0m\n\u001b[0;32m----> 6\u001b[0;31m \u001b[0;32mfor\u001b[0m \u001b[0mteam_ds_data\u001b[0m \u001b[0;32min\u001b[0m \u001b[0mnarps_ds_data\u001b[0m\u001b[0;34m:\u001b[0m\u001b[0;34m\u001b[0m\u001b[0;34m\u001b[0m\u001b[0m\n\u001b[0m\u001b[1;32m      7\u001b[0m     \u001b[0mrp\u001b[0m \u001b[0;34m=\u001b[0m \u001b[0mnp\u001b[0m\u001b[0;34m.\u001b[0m\u001b[0mcorrcoef\u001b[0m\u001b[0;34m(\u001b[0m\u001b[0mteam_ds_data\u001b[0m\u001b[0;34m.\u001b[0m\u001b[0mflatten\u001b[0m\u001b[0;34m(\u001b[0m\u001b[0;34m)\u001b[0m\u001b[0;34m,\u001b[0m \u001b[0mnq_data\u001b[0m\u001b[0;34m.\u001b[0m\u001b[0mflatten\u001b[0m\u001b[0;34m(\u001b[0m\u001b[0;34m)\u001b[0m\u001b[0;34m)\u001b[0m\u001b[0;34m[\u001b[0m\u001b[0;36m0\u001b[0m\u001b[0;34m,\u001b[0m\u001b[0;36m1\u001b[0m\u001b[0;34m]\u001b[0m\u001b[0;34m\u001b[0m\u001b[0;34m\u001b[0m\u001b[0m\n\u001b[1;32m      8\u001b[0m     \u001b[0mrp_teams_nq\u001b[0m\u001b[0;34m.\u001b[0m\u001b[0mappend\u001b[0m\u001b[0;34m(\u001b[0m\u001b[0mrp\u001b[0m\u001b[0;34m)\u001b[0m\u001b[0;34m\u001b[0m\u001b[0;34m\u001b[0m\u001b[0m\n",
      "\u001b[0;31mNameError\u001b[0m: name 'narps_ds_data' is not defined"
     ]
    }
   ],
   "source": [
    "rp2_teams_nq = []\n",
    "rs2_teams_nq = []\n",
    "\n",
    "rp_teams_nq = []\n",
    "rs_teams_nq = []\n",
    "for team_ds_data in narps_ds_data:\n",
    "    rp = np.corrcoef(team_ds_data.flatten(), nq_data.flatten())[0,1]\n",
    "    rp_teams_nq.append(rp)\n",
    "    rp2_teams_nq.append(rp * rp)\n",
    "    \n",
    "    rs = st.spearmanr(a=team_ds_data.flatten(), b=nq_data.flatten(), nan_policy='omit', axis=1)[0]\n",
    "    rs_teams_nq.append(rs)\n",
    "    rs2_teams_nq.append(rs*rs)"
   ]
  },
  {
   "cell_type": "code",
   "execution_count": null,
   "metadata": {},
   "outputs": [],
   "source": [
    "font = {'size'   : 16}\n",
    "matplotlib.rc('font', **font)\n",
    "\n",
    "fig, ax = plt.subplots(figsize=(10,5))\n",
    "plt.imshow(L2s_L.T[:, vertex:vertex+200])\n",
    "#plt.colorbar()\n",
    "ax.get_yaxis().set_ticks([])\n",
    "ax.get_xaxis().set_ticks([])\n",
    "plt.title('Level-2 maps')\n",
    "plt.xlabel('Vertices (subset)')\n",
    "plt.ylabel('Analysis teams')"
   ]
  },
  {
   "cell_type": "code",
   "execution_count": null,
   "metadata": {},
   "outputs": [],
   "source": [
    "plotting.plot_surf_stat_map(surf_mesh=fsaverage.infl_right, \n",
    "                            stat_map=NQ_L, hemi='right',\n",
    "                            title='Surface right hemisphere', colorbar=True,\n",
    "                            threshold=None, bg_map=fsaverage.sulc_right)"
   ]
  },
  {
   "cell_type": "markdown",
   "metadata": {},
   "source": [
    "## Measure similarity"
   ]
  },
  {
   "cell_type": "markdown",
   "metadata": {},
   "source": [
    "### Get results maps"
   ]
  },
  {
   "cell_type": "markdown",
   "metadata": {},
   "source": [
    "#### NeuroQuery results"
   ]
  },
  {
   "cell_type": "code",
   "execution_count": null,
   "metadata": {},
   "outputs": [],
   "source": [
    "nq = nilearn.image.load_img(NQ_path)\n",
    "nq_data = nq.get_fdata()"
   ]
  },
  {
   "cell_type": "markdown",
   "metadata": {},
   "source": [
    "#### Meta-analytic results\n",
    "The voxels are different sizes, so first we need to downsample our meta-analytic result"
   ]
  },
  {
   "cell_type": "code",
   "execution_count": null,
   "metadata": {},
   "outputs": [],
   "source": [
    "ma = nilearn.image.load_img(L3_path)\n",
    "ma_downsampled = image.resample_to_img(ma, nq)\n",
    "ma_ds_data = ma_downsampled.get_fdata()"
   ]
  },
  {
   "cell_type": "markdown",
   "metadata": {},
   "source": [
    "#### Results from each analysis team"
   ]
  },
  {
   "cell_type": "code",
   "execution_count": null,
   "metadata": {},
   "outputs": [],
   "source": [
    "narps_ds_data = []\n",
    "for path in L2s_path:\n",
    "    img = nilearn.image.load_img(path)\n",
    "    img_downsampled = image.resample_to_img(img, nq)\n",
    "    narps_ds_data.append(img_downsampled.get_fdata())"
   ]
  },
  {
   "cell_type": "markdown",
   "metadata": {},
   "source": [
    "### Similarity between meta-analytic result and NeuroQuery result"
   ]
  },
  {
   "cell_type": "code",
   "execution_count": null,
   "metadata": {},
   "outputs": [],
   "source": [
    "#pearson's\n",
    "rp_ma_nq = np.corrcoef(ma_ds_data.flatten(), nq_data.flatten())[0,1]\n",
    "rp2_ma_nq = rp_ma_nq * rp_ma_nq\n",
    "\n",
    "# spearman's\n",
    "rs_ma_nq = st.spearmanr(a=ma_ds_data.flatten(), b=nq_data.flatten(), nan_policy='omit', axis=1)[0]\n",
    "rs2_ma_nq = rs_ma_nq*rs_ma_nq"
   ]
  },
  {
   "cell_type": "markdown",
   "metadata": {},
   "source": [
    "### Pairwise similarity between each team's result and the NeuroQuery result"
   ]
  },
  {
   "cell_type": "code",
   "execution_count": null,
   "metadata": {},
   "outputs": [],
   "source": [
    "rp2_teams_nq = []\n",
    "rs2_teams_nq = []\n",
    "\n",
    "rp_teams_nq = []\n",
    "rs_teams_nq = []\n",
    "for team_ds_data in narps_ds_data:\n",
    "    rp = np.corrcoef(team_ds_data.flatten(), nq_data.flatten())[0,1]\n",
    "    rp_teams_nq.append(rp)\n",
    "    rp2_teams_nq.append(rp * rp)\n",
    "    \n",
    "    rs = st.spearmanr(a=team_ds_data.flatten(), b=nq_data.flatten(), nan_policy='omit', axis=1)[0]\n",
    "    rs_teams_nq.append(rs)\n",
    "    rs2_teams_nq.append(rs*rs)"
   ]
  },
  {
   "cell_type": "markdown",
   "metadata": {},
   "source": [
    "### Visualize"
   ]
  },
  {
   "cell_type": "code",
   "execution_count": null,
   "metadata": {},
   "outputs": [],
   "source": [
    "font = {'size'   : 16}\n",
    "matplotlib.rc('font', **font)\n",
    "\n",
    "ma_nqs = {'Pearson correlation': rp_ma_nq,\n",
    "        'Spearman correlation': rs_ma_nq}\n",
    "\n",
    "teams_nqs = {'Pearson correlation': rp_teams_nq,\n",
    "           'Spearman correlation': rs_teams_nq}\n",
    "\n",
    "for name in ma_nqs:\n",
    "    ma_nq = ma_nqs[name]\n",
    "    team_nq = teams_nqs[name]\n",
    "    \n",
    "    fig, ax = plt.subplots(figsize=(15,5))\n",
    "    plt.hist(team_nq, color='lightblue',\n",
    "             label='sim(NeuroQuery results, \\n level 2 results from each analasis team)')\n",
    "\n",
    "    ax.axvline(x=ma_nq, color='red', label = 'sim(NeuroQuery results, \\n level 3 meta-analytic results)')\n",
    "    plt.legend()\n",
    "\n",
    "    plt.xlim(-0.2,.2)\n",
    "    plt.xlabel('$R$')\n",
    "    plt.ylabel('Number of teams')\n",
    "    plt.title(name)\n",
    "\n",
    "    ax.spines[\"top\"].set_visible(False)\n",
    "    ax.spines[\"right\"].set_visible(False)\n",
    "\n",
    "    fig_name = '../figures/results2_histogram_%s_with_NQ.png' %name.replace(' ', '-')\n",
    "    if save_figs: plt.savefig(fig_name)\n",
    "    "
   ]
  },
  {
   "cell_type": "markdown",
   "metadata": {},
   "source": [
    "## Visualize maps"
   ]
  },
  {
   "cell_type": "code",
   "execution_count": null,
   "metadata": {},
   "outputs": [],
   "source": [
    "images = { \n",
    "    'Meta-analytic result - t-map, unthresholded' : level3_result_ut,\n",
    "    'Meta-analytic result - t-map, thresholded' : level3_result_t,\n",
    "    'NeuroQuery - z-map, unthresholded': neuroquery_ut,\n",
    "    'NeuroQuery - z-map, thresholded': neuroquery_t,\n",
    "#    'NeuroSynth association test (z-map)': neurosynth_assoc,\n",
    "#    'NeuroSynth uniformity test (z-map)': neurosynth_uniform,\n",
    "}\n",
    "\n",
    "\n",
    "for name, img in images.items():\n",
    "    plotting.plot_stat_map(img, title=name, cut_coords=cut_coords,\n",
    "                          figure=plt.figure(figsize=(10,5)))  \n",
    "    if save_figs: plt.savefig('../figures/results2_%s.png' %name.replace(' ', '-'))"
   ]
  },
  {
   "cell_type": "code",
   "execution_count": null,
   "metadata": {},
   "outputs": [],
   "source": [
    "neuroquery_t = thresholding.map_threshold(neuroquery_ut, alpha=level,\n",
    "                                           height_control=height_control,\n",
    "                                           cluster_threshold=cluster_threshold)[0]\n",
    "\n",
    "# NEUROSYNTH\n",
    "#neurosynth_assoc =\\\n",
    "#     '../data-narps/NS_decision-making_association-test_z_FDR_0.01.nii.gz'\n",
    "#neurosynth_uniform = \\\n",
    "#     '../data-narps/NS_decision-making_uniformity-test_z_FDR_0.01.nii.gz'\n",
    "\n",
    "level3_result_t = '../data-narps/results1_hypo%d_Level-3-t-map---thresholded.nii.gz' %hypothesis\n",
    "\n",
    "maps = {'NARPS level-3 map':  '../data-narps/results1_hypo%d_Level-3-t-map.nii.gz' %hypothesis,\n",
    "        'NARPS level-2 maps': fun.get_data_paths_from_orig('hypo%d_unthresh.nii.gz' %hypothesis),\n",
    "        'NeuroQuery result': '../data-narps/NQ_loss_aversion_in_decisionmaking_under_risk.nii.gz'  \n",
    "}"
   ]
  },
  {
   "cell_type": "code",
   "execution_count": null,
   "metadata": {},
   "outputs": [],
   "source": [
    "surfaces_L = {'NeuroQuery result - left hemisphere': [],\n",
    "            'NARPS level-3 map - left hemisphere': [],\n",
    "            'NARPS level-2 maps - left hemisphere': [],\n",
    "}\n",
    "surfaces_R = {'NeuroQuery result - right hemisphere': [],\n",
    "            'NARPS level-3 map - right hemisphere': [],\n",
    "            'NARPS level-2 maps - right hemisphere': [],\n",
    "}\n",
    "\n",
    "font = {'size'   : 16}\n",
    "matplotlib.rc('font', **font)\n",
    "\n",
    "fig, ax = plt.subplots(figsize=(10,5))\n",
    "plt.imshow(L2_L.T[:, vertex:vertex+200])\n",
    "#plt.colorbar()\n",
    "ax.get_yaxis().set_ticks([])\n",
    "ax.get_xaxis().set_ticks([])\n",
    "plt.title('Level-2 maps')\n",
    "plt.xlabel('Vertices (subset)')\n",
    "plt.ylabel('Analysis teams')\n",
    "\n",
    "for team_ds_data in narps_ds_data:\n",
    "    plt.figure(figsize=(10,5))\n",
    "    plt.scatter(team_ds_data.flatten(), nq_data.flatten())"
   ]
  }
 ],
 "metadata": {
  "kernelspec": {
   "display_name": "Python 3",
   "language": "python",
   "name": "python3"
  },
  "language_info": {
   "codemirror_mode": {
    "name": "ipython",
    "version": 3
   },
   "file_extension": ".py",
   "mimetype": "text/x-python",
   "name": "python",
   "nbconvert_exporter": "python",
   "pygments_lexer": "ipython3",
   "version": "3.6.7"
  }
 },
 "nbformat": 4,
 "nbformat_minor": 2
}
