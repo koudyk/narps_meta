{
 "cells": [
  {
   "cell_type": "markdown",
   "metadata": {},
   "source": [
    "# Meta analysis"
   ]
  },
  {
   "cell_type": "code",
   "execution_count": 1,
   "metadata": {},
   "outputs": [
    {
     "ename": "ModuleNotFoundError",
     "evalue": "No module named 'nipy'",
     "output_type": "error",
     "traceback": [
      "\u001b[0;31m---------------------------------------------------------------------------\u001b[0m",
      "\u001b[0;31mModuleNotFoundError\u001b[0m                       Traceback (most recent call last)",
      "\u001b[0;32m<ipython-input-1-72e20db450c2>\u001b[0m in \u001b[0;36m<module>\u001b[0;34m\u001b[0m\n\u001b[1;32m      2\u001b[0m \u001b[0;32mimport\u001b[0m \u001b[0mwarnings\u001b[0m\u001b[0;34m\u001b[0m\u001b[0;34m\u001b[0m\u001b[0m\n\u001b[1;32m      3\u001b[0m \u001b[0mwarnings\u001b[0m\u001b[0;34m.\u001b[0m\u001b[0mfilterwarnings\u001b[0m\u001b[0;34m(\u001b[0m\u001b[0;34m\"ignore\"\u001b[0m\u001b[0;34m)\u001b[0m\u001b[0;34m\u001b[0m\u001b[0;34m\u001b[0m\u001b[0m\n\u001b[0;32m----> 4\u001b[0;31m \u001b[0;32mimport\u001b[0m \u001b[0mfunctions\u001b[0m \u001b[0;32mas\u001b[0m \u001b[0mfun\u001b[0m \u001b[0;31m# functions mostly written by Alexendre Perez (and some by me)\u001b[0m\u001b[0;34m\u001b[0m\u001b[0;34m\u001b[0m\u001b[0m\n\u001b[0m\u001b[1;32m      5\u001b[0m \u001b[0;32mfrom\u001b[0m \u001b[0mnistats\u001b[0m \u001b[0;32mimport\u001b[0m \u001b[0mthresholding\u001b[0m\u001b[0;34m\u001b[0m\u001b[0;34m\u001b[0m\u001b[0m\n\u001b[1;32m      6\u001b[0m \u001b[0;32mimport\u001b[0m \u001b[0mnumpy\u001b[0m \u001b[0;32mas\u001b[0m \u001b[0mnp\u001b[0m\u001b[0;34m\u001b[0m\u001b[0;34m\u001b[0m\u001b[0m\n",
      "\u001b[0;32m~/Documents/projects/narps_meta/analyses/functions.py\u001b[0m in \u001b[0;36m<module>\u001b[0;34m\u001b[0m\n\u001b[1;32m      8\u001b[0m \u001b[0;32mimport\u001b[0m \u001b[0mnumpy\u001b[0m \u001b[0;32mas\u001b[0m \u001b[0mnp\u001b[0m\u001b[0;34m\u001b[0m\u001b[0;34m\u001b[0m\u001b[0m\n\u001b[1;32m      9\u001b[0m \u001b[0;32mfrom\u001b[0m \u001b[0mnilearn\u001b[0m \u001b[0;32mimport\u001b[0m \u001b[0mmasking\u001b[0m\u001b[0;34m,\u001b[0m \u001b[0mplotting\u001b[0m\u001b[0;34m,\u001b[0m \u001b[0mimage\u001b[0m\u001b[0;34m\u001b[0m\u001b[0;34m\u001b[0m\u001b[0m\n\u001b[0;32m---> 10\u001b[0;31m \u001b[0;32mfrom\u001b[0m \u001b[0mnipy\u001b[0m\u001b[0;34m.\u001b[0m\u001b[0mlabs\u001b[0m\u001b[0;34m.\u001b[0m\u001b[0mstatistical_mapping\u001b[0m \u001b[0;32mimport\u001b[0m \u001b[0mget_3d_peaks\u001b[0m\u001b[0;34m\u001b[0m\u001b[0;34m\u001b[0m\u001b[0m\n\u001b[0m\u001b[1;32m     11\u001b[0m \u001b[0;32mimport\u001b[0m \u001b[0mnibabel\u001b[0m \u001b[0;32mas\u001b[0m \u001b[0mnib\u001b[0m\u001b[0;34m\u001b[0m\u001b[0;34m\u001b[0m\u001b[0m\n\u001b[1;32m     12\u001b[0m \u001b[0;32mimport\u001b[0m \u001b[0mscipy\u001b[0m\u001b[0;34m\u001b[0m\u001b[0;34m\u001b[0m\u001b[0m\n",
      "\u001b[0;31mModuleNotFoundError\u001b[0m: No module named 'nipy'"
     ]
    }
   ],
   "source": [
    "%matplotlib inline\n",
    "import warnings\n",
    "warnings.filterwarnings(\"ignore\")\n",
    "import functions as fun # functions mostly written by Alexendre Perez (and some by me)\n",
    "from nistats import thresholding\n",
    "import numpy as np\n",
    "import nibabel as nib\n",
    "import nibabel.processing\n",
    "import nilearn\n",
    "from nilearn import masking, plotting, image\n",
    "from nilearn.input_data import NiftiMasker\n",
    "import matplotlib.pyplot as plt\n",
    "import matplotlib\n",
    "from nimare.dataset import Dataset\n",
    "import nimare\n",
    "import shutil\n",
    "import os\n",
    "import scipy as sp\n",
    "\n",
    "\n",
    "template = nilearn.datasets.load_mni152_template()\n",
    "affine = template.affine\n",
    "\n",
    "level = .05\n",
    "height_control = 'fdr'\n",
    "cluster_threshold = 1 # cluster-size threshold\n",
    "cut_coords=(0, 0, 0) # brain coordinates for visualization\n",
    "\n",
    "save_figs = False\n",
    "save_results = False\n",
    "\n",
    "hypothesis = 2"
   ]
  },
  {
   "cell_type": "markdown",
   "metadata": {},
   "source": [
    "Get the paths for the unthresholded image for each analysis team, for the given hypothesis."
   ]
  },
  {
   "cell_type": "code",
   "execution_count": null,
   "metadata": {},
   "outputs": [],
   "source": [
    "input_dir = '../data-narps/proc/'\n",
    "img_paths = fun.get_data_paths_from_orig('hypo%d_unthresh.nii.gz' %hypothesis)"
   ]
  },
  {
   "cell_type": "markdown",
   "metadata": {},
   "source": [
    "During testing, select the first N studies to speed things up. "
   ]
  },
  {
   "cell_type": "code",
   "execution_count": null,
   "metadata": {},
   "outputs": [],
   "source": [
    "# N_img = 5\n",
    "# img_paths = img_paths[:N_img]"
   ]
  },
  {
   "cell_type": "markdown",
   "metadata": {},
   "source": [
    "## Image-based meta-analysis"
   ]
  },
  {
   "cell_type": "markdown",
   "metadata": {},
   "source": [
    "### Fixed-effects GLM"
   ]
  },
  {
   "cell_type": "markdown",
   "metadata": {},
   "source": [
    "#### Get outcome variable (level-2 maps)"
   ]
  },
  {
   "cell_type": "code",
   "execution_count": null,
   "metadata": {},
   "outputs": [],
   "source": [
    "order = 'C'\n",
    "for n, path in enumerate(img_paths):\n",
    "    img = nilearn.image.load_img(path)\n",
    "    img_resampled = image.resample_to_img(img, template)\n",
    "    array = img_resampled.get_fdata()\n",
    "    flat = array.ravel(order=order)\n",
    "    flat = np.array(flat)\n",
    "    flat = np.expand_dims(flat, axis=1)\n",
    "    if n == 0:\n",
    "        y = flat\n",
    "        voxel = np.argmax(flat)\n",
    "    else:\n",
    "        y = np.concatenate((y, flat), axis=1)\n",
    "y=y.T\n",
    "\n",
    "# z-score\n",
    "#y = (y - np.nanmean(y, axis=0)) / np.nanstd(y, axis=0)"
   ]
  },
  {
   "cell_type": "code",
   "execution_count": null,
   "metadata": {},
   "outputs": [],
   "source": [
    "font = {'size'   : 16}\n",
    "matplotlib.rc('font', **font)\n",
    "\n",
    "fig, ax = plt.subplots(figsize=(10,5))\n",
    "plt.imshow(y[:, voxel: voxel+150])\n",
    "ax.get_yaxis().set_ticks([])\n",
    "ax.get_xaxis().set_ticks([])\n",
    "plt.title('Y')\n",
    "plt.xlabel('Voxels')\n",
    "plt.ylabel('Level-2 maps\\nfrom analysis teams')\n",
    "\n",
    "if save_figs: plt.savefig('../figures/methods1_Y-in-glm.png')"
   ]
  },
  {
   "cell_type": "markdown",
   "metadata": {},
   "source": [
    "#### Make design matrix"
   ]
  },
  {
   "cell_type": "code",
   "execution_count": null,
   "metadata": {},
   "outputs": [],
   "source": [
    "x = np.ones_like(y[:,0])"
   ]
  },
  {
   "cell_type": "code",
   "execution_count": null,
   "metadata": {},
   "outputs": [],
   "source": [
    "fig, ax = plt.subplots(figsize=(1,5))\n",
    "plt.imshow(np.expand_dims(x, axis=1))\n",
    "ax.get_yaxis().set_ticks([])\n",
    "ax.get_xaxis().set_ticks([])\n",
    "plt.title('X')\n",
    "plt.xlabel(' ')\n",
    "plt.ylabel('Level-2 maps\\nfrom analysis teams')\n",
    "if save_figs: plt.savefig('../figures/methods1_X-in-glm.png')"
   ]
  },
  {
   "cell_type": "markdown",
   "metadata": {},
   "source": [
    "#### OLS"
   ]
  },
  {
   "cell_type": "code",
   "execution_count": null,
   "metadata": {},
   "outputs": [],
   "source": [
    "Y = np.matrix(y)\n",
    "X = np.matrix(x).T\n",
    "Y = np.nan_to_num(Y, copy=False, nan=0)\n",
    "\n",
    "betas = ((X.T * X)**-1) * X.T * Y\n",
    "mean = np.mean(Y, axis=0)"
   ]
  },
  {
   "cell_type": "markdown",
   "metadata": {},
   "source": [
    "#### Standard errors"
   ]
  },
  {
   "cell_type": "code",
   "execution_count": null,
   "metadata": {},
   "outputs": [],
   "source": [
    "n = Y.shape[0]\n",
    "residual = np.array(Y - X*betas)\n",
    "SSE = np.squeeze(np.sum(np.power(residual,2), axis=0))\n",
    "SD = np.sqrt(SSE/(n-1))\n",
    "SE = SD/np.sqrt(n)"
   ]
  },
  {
   "cell_type": "markdown",
   "metadata": {},
   "source": [
    "#### Z-map\n",
    "Fisher's transformation from r-values to z-values \n",
    "(the betas are pearson's r values because there's only one predictor)"
   ]
  },
  {
   "cell_type": "code",
   "execution_count": null,
   "metadata": {},
   "outputs": [],
   "source": [
    "zs = np.arctanh(betas)"
   ]
  },
  {
   "cell_type": "markdown",
   "metadata": {},
   "source": [
    "#### T-map"
   ]
  },
  {
   "cell_type": "code",
   "execution_count": null,
   "metadata": {},
   "outputs": [],
   "source": [
    "ts = betas/SE"
   ]
  },
  {
   "cell_type": "code",
   "execution_count": null,
   "metadata": {
    "scrolled": false
   },
   "outputs": [],
   "source": [
    "SE = fun.flat_mat_to_nii(flat_mat=SE, ref_niimg=img_resampled, order=order)\n",
    "betas = fun.flat_mat_to_nii(flat_mat=betas, ref_niimg=img_resampled, order=order)\n",
    "zs = fun.flat_mat_to_nii(flat_mat=zs, ref_niimg=img_resampled, order=order)\n",
    "ts = fun.flat_mat_to_nii(flat_mat=ts, ref_niimg=img_resampled, order=order)\n",
    "#mean = fun.flat_mat_to_nii(flat_mat=mean, ref_niimg=img_resampled, order=order)"
   ]
  },
  {
   "cell_type": "code",
   "execution_count": null,
   "metadata": {},
   "outputs": [],
   "source": [
    "# thresholded\n",
    "ts_thresh = thresholding.map_threshold(ts, alpha=level,\n",
    "                                            height_control=height_control,\n",
    "                                            cluster_threshold=cluster_threshold)[0]"
   ]
  },
  {
   "cell_type": "markdown",
   "metadata": {},
   "source": [
    "## Visualize"
   ]
  },
  {
   "cell_type": "code",
   "execution_count": null,
   "metadata": {
    "scrolled": false
   },
   "outputs": [],
   "source": [
    "maps = { \n",
    "    'Level-3 beta map': betas,\n",
    "    #'Level-3 z-map': zs,\n",
    "    'Level-3 standard error map': SE,\n",
    "    'Level-3 t-map': ts,\n",
    "    'Level-3 t-map - thresholded': ts_thresh,\n",
    "}\n",
    "for name, img in maps.items():\n",
    "    plotting.plot_stat_map(fun.mni_mask(img), title=name, cut_coords=cut_coords,\n",
    "                          figure=plt.figure(figsize=(10,5)))\n",
    "    \n",
    "    if save_figs: plt.savefig('../figures/results1_hypo%d_%s.png'\\\n",
    "                                  %(hypothesis, name.replace(' ', '-')))\n",
    "    if save_results: img.to_filename('../data-narps/results1_hypo%d_%s.nii.gz' \\\n",
    "                                  %(hypothesis, name.replace(' ', '-')))"
   ]
  },
  {
   "cell_type": "code",
   "execution_count": null,
   "metadata": {},
   "outputs": [],
   "source": []
  }
 ],
 "metadata": {
  "kernelspec": {
   "display_name": "Python 3",
   "language": "python",
   "name": "python3"
  },
  "language_info": {
   "codemirror_mode": {
    "name": "ipython",
    "version": 3
   },
   "file_extension": ".py",
   "mimetype": "text/x-python",
   "name": "python",
   "nbconvert_exporter": "python",
   "pygments_lexer": "ipython3",
   "version": "3.7.3"
  }
 },
 "nbformat": 4,
 "nbformat_minor": 2
}
