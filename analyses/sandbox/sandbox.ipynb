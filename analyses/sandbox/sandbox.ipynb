{
 "cells": [
  {
   "cell_type": "code",
   "execution_count": null,
   "metadata": {},
   "outputs": [],
   "source": [
    "%matplotlib inline\n",
    "import functions as fun # functions mostly written by Alexendre Perez\n",
    "from nistats import thresholding\n",
    "import numpy as np\n",
    "import nibabel as nib\n",
    "import nilearn\n",
    "from nilearn import masking, plotting\n",
    "\n",
    "filename = 'hypo1_thresh.nii.gz'\n",
    "\n",
    "data_list = fun.get_data_list(filename)"
   ]
  },
  {
   "cell_type": "code",
   "execution_count": null,
   "metadata": {},
   "outputs": [],
   "source": [
    "input_dir = '../data-narps/proc/'\n",
    "image_type='contrast' # options: zscore, contrast, or standard_error\n",
    "img_paths = fun.get_data_paths(input_dir=input_dir, image_type=image_type)\n",
    "img_paths"
   ]
  },
  {
   "cell_type": "code",
   "execution_count": null,
   "metadata": {},
   "outputs": [],
   "source": [
    "## Coordinate-based meta-analysis\n",
    "Using Activation Likelihood Estimation"
   ]
  },
  {
   "cell_type": "code",
   "execution_count": null,
   "metadata": {},
   "outputs": [],
   "source": [
    "# Unthresholded ALE image\n",
    "img_ale, img_p, img_z = fun.run_ALE(ds_dict)\n",
    "\n",
    "# Thresholded ALE image\n",
    "img_ale_thr_nimare, img_p_thr, img_z_thr = fun.fdr_threshold([img_ale, img_p, img_z], img_p, q=level)\n",
    "\n",
    "meta_analysis = { \n",
    "    'ALE': img_ale,\n",
    "    'ALE thresholded': img_ale_thr_nimare,\n",
    "}\n",
    "for name, img in meta_analysis.items():\n",
    "    plotting.plot_stat_map(img, title=name, cut_coords=cut_coords,\n",
    "                          figure=plt.figure(figsize=(10,5)))   \n",
    "    if save_figs: plt.savefig('../figures/results_%s.png' %name.replace(' ', '-'))"
   ]
  },
  {
   "cell_type": "code",
   "execution_count": 1,
   "metadata": {},
   "outputs": [
    {
     "ename": "NameError",
     "evalue": "name 'nimare' is not defined",
     "output_type": "error",
     "traceback": [
      "\u001b[0;31m---------------------------------------------------------------------------\u001b[0m",
      "\u001b[0;31mNameError\u001b[0m                                 Traceback (most recent call last)",
      "\u001b[0;32m<ipython-input-1-55165d6ff415>\u001b[0m in \u001b[0;36m<module>\u001b[0;34m\u001b[0m\n\u001b[1;32m      1\u001b[0m \u001b[0;31m# thresholded MFX image using nimare\u001b[0m\u001b[0;34m\u001b[0m\u001b[0;34m\u001b[0m\u001b[0;34m\u001b[0m\u001b[0m\n\u001b[1;32m      2\u001b[0m \u001b[0;31m# AT THIS POINT IT HASN'T BEEN THRESHOLDED, ONLY CONVERTED TO P-VALUES (I THINK)\u001b[0m\u001b[0;34m\u001b[0m\u001b[0;34m\u001b[0m\u001b[0;34m\u001b[0m\u001b[0m\n\u001b[0;32m----> 3\u001b[0;31m \u001b[0mfdr_corrector\u001b[0m \u001b[0;34m=\u001b[0m \u001b[0mnimare\u001b[0m\u001b[0;34m.\u001b[0m\u001b[0mcorrect\u001b[0m\u001b[0;34m.\u001b[0m\u001b[0mFDRCorrector\u001b[0m\u001b[0;34m(\u001b[0m\u001b[0mmethod\u001b[0m\u001b[0;34m=\u001b[0m\u001b[0;34m'indep'\u001b[0m\u001b[0;34m,\u001b[0m \u001b[0mq\u001b[0m\u001b[0;34m=\u001b[0m\u001b[0mlevel\u001b[0m\u001b[0;34m)\u001b[0m\u001b[0;34m\u001b[0m\u001b[0;34m\u001b[0m\u001b[0m\n\u001b[0m\u001b[1;32m      4\u001b[0m \u001b[0mp\u001b[0m \u001b[0;34m=\u001b[0m \u001b[0mfdr_corrector\u001b[0m\u001b[0;34m.\u001b[0m\u001b[0mtransform\u001b[0m\u001b[0;34m(\u001b[0m\u001b[0mres\u001b[0m\u001b[0;34m)\u001b[0m\u001b[0;34m\u001b[0m\u001b[0;34m\u001b[0m\u001b[0m\n\u001b[1;32m      5\u001b[0m \u001b[0mimg_p_MFX_thr_nimare\u001b[0m \u001b[0;34m=\u001b[0m \u001b[0mp\u001b[0m\u001b[0;34m.\u001b[0m\u001b[0mget_map\u001b[0m\u001b[0;34m(\u001b[0m\u001b[0;34m'p'\u001b[0m\u001b[0;34m)\u001b[0m\u001b[0;34m\u001b[0m\u001b[0;34m\u001b[0m\u001b[0m\n",
      "\u001b[0;31mNameError\u001b[0m: name 'nimare' is not defined"
     ]
    }
   ],
   "source": [
    "# thresholded MFX image using nimare \n",
    "# AT THIS POINT IT HASN'T BEEN THRESHOLDED, ONLY CONVERTED TO P-VALUES (I THINK)\n",
    "fdr_corrector = nimare.correct.FDRCorrector(method='indep', q=level)\n",
    "p = fdr_corrector.transform(res)\n",
    "img_p_MFX_thr_nimare = p.get_map('p')"
   ]
  },
  {
   "cell_type": "markdown",
   "metadata": {},
   "source": [
    " notebook 2"
   ]
  },
  {
   "cell_type": "code",
   "execution_count": null,
   "metadata": {},
   "outputs": [],
   "source": [
    "# META-ANALYTIC RESULT\n",
    "level3_result_ut = '../data-narps/level-3_t-map_unthresholded.nii.gz'\n",
    "level3_result_t = '../data-narps/level-3_t-map_thresholded.nii.gz'\n",
    "\n",
    "NQ_loss_aversion_in_decisionmaking_under_risk\n",
    "\n",
    "# NEUROQUERY\n",
    "neuroquery_img = '../data-narps/NQ_decision_making.nii.gz'\n",
    "\n",
    "neuroquery_img_thr = thresholding.map_threshold(neuroquery_img, alpha=level,\n",
    "                                           height_control=height_control,\n",
    "                                           cluster_threshold=cluster_threshold)[0]\n",
    "# NEUROSYNTH\n",
    "neurosynth_img_assoc =\\\n",
    "     '../data-narps/NS_decision-making_association-test_z_FDR_0.01.nii.gz'\n",
    "neurosynth_img_uniform = \\\n",
    "     '../data-narps/NS_decision-making_uniformity-test_z_FDR_0.01.nii.gz'\n",
    "\n",
    "images = { \n",
    "    'Meta-analytic result (unthresholded)' : level3_result_ut,\n",
    "    'Meta-analytic result (thresholded)' : level3_result_t,\n",
    "    'NeuroQuery (unthresholded)': neuroquery_img,\n",
    "    'NeuroQuery (thresholded)': neuroquery_img_thr,\n",
    "    'NeuroSynth association test': neurosynth_img_assoc,\n",
    "    'NeuroSynth uniformity test': neurosynth_img_uniform,\n",
    "}\n",
    "\n",
    "for name, img in images.items():\n",
    "    plotting.plot_stat_map(img, title=name, cut_coords=cut_coords,\n",
    "                          figure=plt.figure(figsize=(10,5)))  \n",
    "    if save_figs: plt.savefig('../figures/results2_%s.png' %name.replace(' ', '-'))"
   ]
  },
  {
   "cell_type": "code",
   "execution_count": null,
   "metadata": {},
   "outputs": [],
   "source": [
    "ds_dict = fun.extract_from_paths(img_paths, data=['path', 'coord'], sample_size=sample_size, \n",
    "        level=level, height_control=height_control, cluster_threshold=cluster_threshold)"
   ]
  }
 ],
 "metadata": {
  "kernelspec": {
   "display_name": "Python 3",
   "language": "python",
   "name": "python3"
  },
  "language_info": {
   "codemirror_mode": {
    "name": "ipython",
    "version": 3
   },
   "file_extension": ".py",
   "mimetype": "text/x-python",
   "name": "python",
   "nbconvert_exporter": "python",
   "pygments_lexer": "ipython3",
   "version": "3.6.7"
  }
 },
 "nbformat": 4,
 "nbformat_minor": 2
}
