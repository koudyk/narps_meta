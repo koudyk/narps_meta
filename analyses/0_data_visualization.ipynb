{
 "cells": [
  {
   "cell_type": "markdown",
   "metadata": {},
   "source": [
    "# Data Visualization\n",
    "Let's look at the data going into the meta-analysis, that is, the unthresholded group-level statistical maps (z-maps) for each of the analysis teams."
   ]
  },
  {
   "cell_type": "code",
   "execution_count": null,
   "metadata": {},
   "outputs": [],
   "source": [
    "%matplotlib inline\n",
    "import os\n",
    "import multiprocessing\n",
    "from joblib import Parallel, delayed\n",
    "import nilearn\n",
    "import numpy as np\n",
    "from nilearn import masking, plotting\n",
    "from nipy.labs.statistical_mapping import get_3d_peaks\n",
    "import nibabel as nib\n",
    "import scipy\n",
    "from matplotlib import pyplot as plt\n",
    "import ntpath\n",
    "from nimare.dataset import Dataset\n",
    "import nimare\n",
    "import copy\n",
    "from nistats import thresholding\n",
    "\n",
    "level = .05\n",
    "height_control = 'fdr'\n",
    "cluster_threshold = 1\n",
    "\n",
    "template = nilearn.datasets.load_mni152_template()\n",
    "Ni, Nj, Nk = template.shape\n",
    "affine = template.affine\n",
    "gray_mask = masking.compute_gray_matter_mask(template)\n",
    "\n",
    "cut_coords=(0, 0, 0)"
   ]
  },
  {
   "cell_type": "code",
   "execution_count": null,
   "metadata": {},
   "outputs": [],
   "source": [
    "input_dir = 'data-narps/proc/'\n",
    "img_paths_full = []\n",
    "i = 0\n",
    "while True:\n",
    "    path = os.path.abspath(f'{input_dir}hypo1_unthresh_{i}.nii.gz')\n",
    "    \n",
    "    if not os.path.isfile(path):\n",
    "        break\n",
    "    \n",
    "    img_paths_full.append(path)\n",
    "    i += 1\n",
    "N_img = 10\n",
    "img_paths = img_paths_full[:N_img]"
   ]
  }
 ],
 "metadata": {
  "kernelspec": {
   "display_name": "Python 3",
   "language": "python",
   "name": "python3"
  },
  "language_info": {
   "codemirror_mode": {
    "name": "ipython",
    "version": 3
   },
   "file_extension": ".py",
   "mimetype": "text/x-python",
   "name": "python",
   "nbconvert_exporter": "python",
   "pygments_lexer": "ipython3",
   "version": "3.6.7"
  }
 },
 "nbformat": 4,
 "nbformat_minor": 2
}
