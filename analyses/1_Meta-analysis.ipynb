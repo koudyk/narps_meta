{
 "cells": [
  {
   "cell_type": "markdown",
   "metadata": {},
   "source": [
    "# Meta analyses"
   ]
  },
  {
   "cell_type": "code",
   "execution_count": 20,
   "metadata": {},
   "outputs": [],
   "source": [
    "%matplotlib inline\n",
    "import warnings\n",
    "warnings.filterwarnings(\"ignore\")\n",
    "import functions as fun\n",
    "from nistats import thresholding\n",
    "import numpy as np\n",
    "import nibabel as nib\n",
    "import nilearn\n",
    "from nilearn import masking, plotting\n",
    "import matplotlib.pyplot as plt\n",
    "\n",
    "template = nilearn.datasets.load_mni152_template()\n",
    "affine = template.affine\n",
    "\n",
    "level = .05\n",
    "height_control = 'fdr'\n",
    "cluster_threshold = 1\n",
    "sample_size=119\n",
    "\n",
    "cut_coords=(0, 0, 0)"
   ]
  },
  {
   "cell_type": "markdown",
   "metadata": {},
   "source": [
    "Get the paths for the unthresholded image for each analysis team, for the given hypothesis."
   ]
  },
  {
   "cell_type": "code",
   "execution_count": 2,
   "metadata": {},
   "outputs": [],
   "source": [
    "input_dir = '../data-narps/proc/'\n",
    "img_paths = fun.get_data_paths(input_dir)"
   ]
  },
  {
   "cell_type": "markdown",
   "metadata": {},
   "source": [
    "For now, select the first N studies. "
   ]
  },
  {
   "cell_type": "code",
   "execution_count": 3,
   "metadata": {},
   "outputs": [],
   "source": [
    "# N_img = 3\n",
    "# img_paths = img_paths[:N_img]"
   ]
  },
  {
   "cell_type": "markdown",
   "metadata": {},
   "source": [
    "Convert the images to the dataset directory that is readable by NiMARE, the meta-analysis package. "
   ]
  },
  {
   "cell_type": "code",
   "execution_count": 4,
   "metadata": {
    "scrolled": false
   },
   "outputs": [
    {
     "name": "stderr",
     "output_type": "stream",
     "text": [
      "/opt/miniconda-latest/envs/neuro_py36/lib/python3.6/site-packages/nilearn/_utils/cache_mixin.py:232: DeprecationWarning: The 'cachedir' attribute has been deprecated in version 0.12 and will be removed in version 0.14.\n",
      "Use os.path.join(memory.location, 'joblib') attribute instead.\n",
      "  if (memory.cachedir is None and memory_level is not None\n",
      "/opt/miniconda-latest/envs/neuro_py36/lib/python3.6/importlib/_bootstrap.py:219: ImportWarning: can't resolve package from __spec__ or __package__, falling back on __name__ and __path__\n",
      "  return f(*args, **kwds)\n",
      "/opt/miniconda-latest/envs/neuro_py36/lib/python3.6/site-packages/numpy/matrixlib/defmatrix.py:71: PendingDeprecationWarning: the matrix subclass is not the recommended way to represent matrices or deal with linear algebra (see https://docs.scipy.org/doc/numpy/user/numpy-for-matlab-users.html). Please adjust your code to use regular ndarray.\n",
      "  return matrix(data, dtype=dtype, copy=False)\n"
     ]
    }
   ],
   "source": [
    "ds_dict = fun.extract_from_paths(img_paths, data=['path', 'coord'], sample_size=sample_size, \n",
    "                    level=level, height_control=height_control, cluster_threshold=cluster_threshold)"
   ]
  },
  {
   "cell_type": "markdown",
   "metadata": {},
   "source": [
    "## Coordinate-based meta-analysis\n",
    "Using Activation Likelihood Estimation"
   ]
  },
  {
   "cell_type": "code",
   "execution_count": 5,
   "metadata": {},
   "outputs": [
    {
     "name": "stderr",
     "output_type": "stream",
     "text": [
      "INFO:nimare.dataset:Shared path detected: \"/home/neuro/test/data-narps/proc/hypo1_unthresh_\"\n"
     ]
    }
   ],
   "source": [
    "# Unthresholded ALE image\n",
    "img_ale, img_p, img_z = fun.run_ALE(ds_dict)"
   ]
  },
  {
   "cell_type": "code",
   "execution_count": 6,
   "metadata": {},
   "outputs": [],
   "source": [
    "# Thresholded ALE image\n",
    "img_ale_thr = thresholding.map_threshold(img_ale, level=level, \n",
    "                                           height_control=height_control,\n",
    "                                           cluster_threshold=cluster_threshold)[0]"
   ]
  },
  {
   "cell_type": "markdown",
   "metadata": {},
   "source": [
    "## Image-based meta-analysis\n",
    "Using a mixed-effects linear model"
   ]
  },
  {
   "cell_type": "code",
   "execution_count": 7,
   "metadata": {},
   "outputs": [
    {
     "name": "stderr",
     "output_type": "stream",
     "text": [
      "INFO:nimare.dataset:Shared path detected: \"/home/neuro/test/data-narps/proc/hypo1_unthresh_\"\n"
     ]
    },
    {
     "name": "stdout",
     "output_type": "stream",
     "text": [
      "191028-22:26:43,25 nipype.interface INFO:\n",
      "\t stdout 2019-10-28T22:26:43.025399:Log directory is: stats\n"
     ]
    },
    {
     "name": "stderr",
     "output_type": "stream",
     "text": [
      "INFO:nipype.interface:stdout 2019-10-28T22:26:43.025399:Log directory is: stats\n"
     ]
    },
    {
     "name": "stdout",
     "output_type": "stream",
     "text": [
      "191028-22:26:43,28 nipype.interface INFO:\n",
      "\t stdout 2019-10-28T22:26:43.028376:Setting up:\n"
     ]
    },
    {
     "name": "stderr",
     "output_type": "stream",
     "text": [
      "INFO:nipype.interface:stdout 2019-10-28T22:26:43.028376:Setting up:\n"
     ]
    },
    {
     "name": "stdout",
     "output_type": "stream",
     "text": [
      "191028-22:26:44,907 nipype.interface INFO:\n",
      "\t stdout 2019-10-28T22:26:44.907205:ntptsing=37.000000 \n"
     ]
    },
    {
     "name": "stderr",
     "output_type": "stream",
     "text": [
      "INFO:nipype.interface:stdout 2019-10-28T22:26:44.907205:ntptsing=37.000000 \n"
     ]
    },
    {
     "name": "stdout",
     "output_type": "stream",
     "text": [
      "191028-22:26:44,908 nipype.interface INFO:\n",
      "\t stdout 2019-10-28T22:26:44.907205:\n"
     ]
    },
    {
     "name": "stderr",
     "output_type": "stream",
     "text": [
      "INFO:nipype.interface:stdout 2019-10-28T22:26:44.907205:\n"
     ]
    },
    {
     "name": "stdout",
     "output_type": "stream",
     "text": [
      "191028-22:26:44,910 nipype.interface INFO:\n",
      "\t stdout 2019-10-28T22:26:44.907205:evs_group=1.000000 \n"
     ]
    },
    {
     "name": "stderr",
     "output_type": "stream",
     "text": [
      "INFO:nipype.interface:stdout 2019-10-28T22:26:44.907205:evs_group=1.000000 \n"
     ]
    },
    {
     "name": "stdout",
     "output_type": "stream",
     "text": [
      "191028-22:26:44,911 nipype.interface INFO:\n",
      "\t stdout 2019-10-28T22:26:44.907205:\n"
     ]
    },
    {
     "name": "stderr",
     "output_type": "stream",
     "text": [
      "INFO:nipype.interface:stdout 2019-10-28T22:26:44.907205:\n"
     ]
    },
    {
     "name": "stdout",
     "output_type": "stream",
     "text": [
      "191028-22:26:44,912 nipype.interface INFO:\n",
      "\t stdout 2019-10-28T22:26:44.912710:No f contrasts\n"
     ]
    },
    {
     "name": "stderr",
     "output_type": "stream",
     "text": [
      "INFO:nipype.interface:stdout 2019-10-28T22:26:44.912710:No f contrasts\n"
     ]
    },
    {
     "name": "stdout",
     "output_type": "stream",
     "text": [
      "191028-22:26:45,190 nipype.interface INFO:\n",
      "\t stdout 2019-10-28T22:26:45.190611:\n"
     ]
    },
    {
     "name": "stderr",
     "output_type": "stream",
     "text": [
      "INFO:nipype.interface:stdout 2019-10-28T22:26:45.190611:\n"
     ]
    },
    {
     "name": "stdout",
     "output_type": "stream",
     "text": [
      "191028-22:26:45,193 nipype.interface INFO:\n",
      "\t stdout 2019-10-28T22:26:45.190611:WARNING: The passed in varcope file, /home/neuro/test/analyses/mfx_glm/varcope.nii.gz, contains voxels inside the mask with zero (or negative) values. These voxels will be excluded from the analysis.\n"
     ]
    },
    {
     "name": "stderr",
     "output_type": "stream",
     "text": [
      "INFO:nipype.interface:stdout 2019-10-28T22:26:45.190611:WARNING: The passed in varcope file, /home/neuro/test/analyses/mfx_glm/varcope.nii.gz, contains voxels inside the mask with zero (or negative) values. These voxels will be excluded from the analysis.\n"
     ]
    },
    {
     "name": "stdout",
     "output_type": "stream",
     "text": [
      "191028-22:26:45,199 nipype.interface INFO:\n",
      "\t stdout 2019-10-28T22:26:45.199057:nevs=1\n"
     ]
    },
    {
     "name": "stderr",
     "output_type": "stream",
     "text": [
      "INFO:nipype.interface:stdout 2019-10-28T22:26:45.199057:nevs=1\n"
     ]
    },
    {
     "name": "stdout",
     "output_type": "stream",
     "text": [
      "191028-22:26:45,201 nipype.interface INFO:\n",
      "\t stdout 2019-10-28T22:26:45.199057:ntpts=37\n"
     ]
    },
    {
     "name": "stderr",
     "output_type": "stream",
     "text": [
      "INFO:nipype.interface:stdout 2019-10-28T22:26:45.199057:ntpts=37\n"
     ]
    },
    {
     "name": "stdout",
     "output_type": "stream",
     "text": [
      "191028-22:26:45,203 nipype.interface INFO:\n",
      "\t stdout 2019-10-28T22:26:45.199057:ngs=1\n"
     ]
    },
    {
     "name": "stderr",
     "output_type": "stream",
     "text": [
      "INFO:nipype.interface:stdout 2019-10-28T22:26:45.199057:ngs=1\n"
     ]
    },
    {
     "name": "stdout",
     "output_type": "stream",
     "text": [
      "191028-22:26:45,208 nipype.interface INFO:\n",
      "\t stdout 2019-10-28T22:26:45.199057:nvoxels=227461\n"
     ]
    },
    {
     "name": "stderr",
     "output_type": "stream",
     "text": [
      "INFO:nipype.interface:stdout 2019-10-28T22:26:45.199057:nvoxels=227461\n"
     ]
    },
    {
     "name": "stdout",
     "output_type": "stream",
     "text": [
      "191028-22:26:45,258 nipype.interface INFO:\n",
      "\t stdout 2019-10-28T22:26:45.258797:Running:\n"
     ]
    },
    {
     "name": "stderr",
     "output_type": "stream",
     "text": [
      "INFO:nipype.interface:stdout 2019-10-28T22:26:45.258797:Running:\n"
     ]
    },
    {
     "name": "stdout",
     "output_type": "stream",
     "text": [
      "191028-22:26:45,260 nipype.interface INFO:\n",
      "\t stdout 2019-10-28T22:26:45.258797:nmaskvoxels=227461\n"
     ]
    },
    {
     "name": "stderr",
     "output_type": "stream",
     "text": [
      "INFO:nipype.interface:stdout 2019-10-28T22:26:45.258797:nmaskvoxels=227461\n"
     ]
    },
    {
     "name": "stdout",
     "output_type": "stream",
     "text": [
      "191028-22:27:26,331 nipype.interface INFO:\n",
      "\t stdout 2019-10-28T22:27:26.330945: 1 2 3 4 5 6 7 8 9 10 11 12 13 14 15 16 17 18 19 20 21 22 23 24 25 26 27 28 29 30 31 32 33 34 35 36 37 38 39 40 41 42 43 44 45 46 47 48 49 50 51 52 53 54 55 56 57 58 59 60 61 62 63 64 65 66 67 68 69 70 71 72 73 74 75 76 77 78 79 80 81 82 83 84 85 86 87 88 89 90 91 92 93 94 95 96 97 98 99 100\n"
     ]
    },
    {
     "name": "stderr",
     "output_type": "stream",
     "text": [
      "INFO:nipype.interface:stdout 2019-10-28T22:27:26.330945: 1 2 3 4 5 6 7 8 9 10 11 12 13 14 15 16 17 18 19 20 21 22 23 24 25 26 27 28 29 30 31 32 33 34 35 36 37 38 39 40 41 42 43 44 45 46 47 48 49 50 51 52 53 54 55 56 57 58 59 60 61 62 63 64 65 66 67 68 69 70 71 72 73 74 75 76 77 78 79 80 81 82 83 84 85 86 87 88 89 90 91 92 93 94 95 96 97 98 99 100\n"
     ]
    },
    {
     "name": "stdout",
     "output_type": "stream",
     "text": [
      "191028-22:27:26,335 nipype.interface INFO:\n",
      "\t stdout 2019-10-28T22:27:26.335255:nmaskvoxels=227461\n"
     ]
    },
    {
     "name": "stderr",
     "output_type": "stream",
     "text": [
      "INFO:nipype.interface:stdout 2019-10-28T22:27:26.335255:nmaskvoxels=227461\n"
     ]
    },
    {
     "name": "stdout",
     "output_type": "stream",
     "text": [
      "191028-22:27:26,336 nipype.interface INFO:\n",
      "\t stdout 2019-10-28T22:27:26.335255:Saving results\n"
     ]
    },
    {
     "name": "stderr",
     "output_type": "stream",
     "text": [
      "INFO:nipype.interface:stdout 2019-10-28T22:27:26.335255:Saving results\n"
     ]
    },
    {
     "name": "stdout",
     "output_type": "stream",
     "text": [
      "191028-22:27:31,535 nipype.interface INFO:\n",
      "\t stdout 2019-10-28T22:27:31.535017:\n"
     ]
    },
    {
     "name": "stderr",
     "output_type": "stream",
     "text": [
      "INFO:nipype.interface:stdout 2019-10-28T22:27:31.535017:\n"
     ]
    },
    {
     "name": "stdout",
     "output_type": "stream",
     "text": [
      "191028-22:27:31,536 nipype.interface INFO:\n",
      "\t stdout 2019-10-28T22:27:31.535017:Log directory was: stats\n"
     ]
    },
    {
     "name": "stderr",
     "output_type": "stream",
     "text": [
      "INFO:nipype.interface:stdout 2019-10-28T22:27:31.535017:Log directory was: stats\n"
     ]
    },
    {
     "name": "stdout",
     "output_type": "stream",
     "text": [
      "191028-22:27:32,804 nipype.interface INFO:\n",
      "\t stdout 2019-10-28T22:27:32.804244:DLH 0.0936933\n"
     ]
    },
    {
     "name": "stderr",
     "output_type": "stream",
     "text": [
      "INFO:nipype.interface:stdout 2019-10-28T22:27:32.804244:DLH 0.0936933\n"
     ]
    },
    {
     "name": "stdout",
     "output_type": "stream",
     "text": [
      "191028-22:27:32,806 nipype.interface INFO:\n",
      "\t stdout 2019-10-28T22:27:32.804244:VOLUME 227461\n"
     ]
    },
    {
     "name": "stderr",
     "output_type": "stream",
     "text": [
      "INFO:nipype.interface:stdout 2019-10-28T22:27:32.804244:VOLUME 227461\n"
     ]
    },
    {
     "name": "stdout",
     "output_type": "stream",
     "text": [
      "191028-22:27:32,807 nipype.interface INFO:\n",
      "\t stdout 2019-10-28T22:27:32.804244:RESELS 49.8037\n"
     ]
    },
    {
     "name": "stderr",
     "output_type": "stream",
     "text": [
      "INFO:nipype.interface:stdout 2019-10-28T22:27:32.804244:RESELS 49.8037\n"
     ]
    },
    {
     "name": "stdout",
     "output_type": "stream",
     "text": [
      "191028-22:27:33,69 nipype.interface INFO:\n",
      "\t stdout 2019-10-28T22:27:33.068936:Cluster Index\tVoxels\tP\t-log10(P)\tMAX\tMAX X (mm)\tMAX Y (mm)\tMAX Z (mm)\tCOG X (mm)\tCOG Y (mm)\tCOG Z (mm)\tCOPE-MAX\tCOPE-MAX X (mm)\tCOPE-MAX Y (mm)\tCOPE-MAX Z (mm)\tCOPE-MEAN\n"
     ]
    },
    {
     "name": "stderr",
     "output_type": "stream",
     "text": [
      "INFO:nipype.interface:stdout 2019-10-28T22:27:33.068936:Cluster Index\tVoxels\tP\t-log10(P)\tMAX\tMAX X (mm)\tMAX Y (mm)\tMAX Z (mm)\tCOG X (mm)\tCOG Y (mm)\tCOG Z (mm)\tCOPE-MAX\tCOPE-MAX X (mm)\tCOPE-MAX Y (mm)\tCOPE-MAX Z (mm)\tCOPE-MEAN\n"
     ]
    },
    {
     "name": "stdout",
     "output_type": "stream",
     "text": [
      "191028-22:27:33,71 nipype.interface INFO:\n",
      "\t stdout 2019-10-28T22:27:33.068936:1\t52335\t0\t153\t9.26\t-44\t-50\t-10\t0.848\t-36.8\t12.1\t4.21\t-46\t-16\t52\t0.904\n"
     ]
    },
    {
     "name": "stderr",
     "output_type": "stream",
     "text": [
      "INFO:nipype.interface:stdout 2019-10-28T22:27:33.068936:1\t52335\t0\t153\t9.26\t-44\t-50\t-10\t0.848\t-36.8\t12.1\t4.21\t-46\t-16\t52\t0.904\n"
     ]
    },
    {
     "name": "stdout",
     "output_type": "stream",
     "text": [
      "191028-22:27:33,809 nipype.interface INFO:\n",
      "\t stdout 2019-10-28T22:27:33.809225:Cluster Index\tVoxels\tP\t-log10(P)\tMAX\tMAX X (mm)\tMAX Y (mm)\tMAX Z (mm)\tCOG X (mm)\tCOG Y (mm)\tCOG Z (mm)\tCOPE-MAX\tCOPE-MAX X (mm)\tCOPE-MAX Y (mm)\tCOPE-MAX Z (mm)\tCOPE-MEAN\n"
     ]
    },
    {
     "name": "stderr",
     "output_type": "stream",
     "text": [
      "INFO:nipype.interface:stdout 2019-10-28T22:27:33.809225:Cluster Index\tVoxels\tP\t-log10(P)\tMAX\tMAX X (mm)\tMAX Y (mm)\tMAX Z (mm)\tCOG X (mm)\tCOG Y (mm)\tCOG Z (mm)\tCOPE-MAX\tCOPE-MAX X (mm)\tCOPE-MAX Y (mm)\tCOPE-MAX Z (mm)\tCOPE-MEAN\n"
     ]
    },
    {
     "name": "stdout",
     "output_type": "stream",
     "text": [
      "191028-22:27:33,811 nipype.interface INFO:\n",
      "\t stdout 2019-10-28T22:27:33.809225:5\t61604\t0\t171\t9.08\t14\t34\t52\t-7.66\t-3.87\t28.5\t3.81\t-42\t-26\t64\t1.25\n"
     ]
    },
    {
     "name": "stderr",
     "output_type": "stream",
     "text": [
      "INFO:nipype.interface:stdout 2019-10-28T22:27:33.809225:5\t61604\t0\t171\t9.08\t14\t34\t52\t-7.66\t-3.87\t28.5\t3.81\t-42\t-26\t64\t1.25\n"
     ]
    },
    {
     "name": "stdout",
     "output_type": "stream",
     "text": [
      "191028-22:27:33,812 nipype.interface INFO:\n",
      "\t stdout 2019-10-28T22:27:33.809225:4\t3316\t2.53e-23\t22.6\t6.84\t32\t-78\t-38\t24.2\t-66.4\t-33.3\t2.47\t20\t-48\t-20\t0.975\n"
     ]
    },
    {
     "name": "stderr",
     "output_type": "stream",
     "text": [
      "INFO:nipype.interface:stdout 2019-10-28T22:27:33.809225:4\t3316\t2.53e-23\t22.6\t6.84\t32\t-78\t-38\t24.2\t-66.4\t-33.3\t2.47\t20\t-48\t-20\t0.975\n"
     ]
    },
    {
     "name": "stdout",
     "output_type": "stream",
     "text": [
      "191028-22:27:33,813 nipype.interface INFO:\n",
      "\t stdout 2019-10-28T22:27:33.809225:3\t2699\t3.66e-20\t19.4\t8.07\t62\t-22\t-20\t59.5\t-30.1\t-14.2\t2.26\t62\t-22\t-22\t0.913\n"
     ]
    },
    {
     "name": "stderr",
     "output_type": "stream",
     "text": [
      "INFO:nipype.interface:stdout 2019-10-28T22:27:33.809225:3\t2699\t3.66e-20\t19.4\t8.07\t62\t-22\t-20\t59.5\t-30.1\t-14.2\t2.26\t62\t-22\t-22\t0.913\n"
     ]
    },
    {
     "name": "stdout",
     "output_type": "stream",
     "text": [
      "191028-22:27:33,814 nipype.interface INFO:\n",
      "\t stdout 2019-10-28T22:27:33.809225:2\t670\t3.58e-07\t6.45\t5.32\t-18\t-84\t-32\t-27.8\t-76.5\t-37.5\t1.63\t-18\t-84\t-32\t0.852\n"
     ]
    },
    {
     "name": "stderr",
     "output_type": "stream",
     "text": [
      "INFO:nipype.interface:stdout 2019-10-28T22:27:33.809225:2\t670\t3.58e-07\t6.45\t5.32\t-18\t-84\t-32\t-27.8\t-76.5\t-37.5\t1.63\t-18\t-84\t-32\t0.852\n"
     ]
    },
    {
     "name": "stdout",
     "output_type": "stream",
     "text": [
      "191028-22:27:33,815 nipype.interface INFO:\n",
      "\t stdout 2019-10-28T22:27:33.809225:1\t457\t2.94e-05\t4.53\t5.2\t2\t-36\t-16\t-8.47\t-35\t-24.7\t1.71\t-22\t-50\t-26\t0.601\n"
     ]
    },
    {
     "name": "stderr",
     "output_type": "stream",
     "text": [
      "INFO:nipype.interface:stdout 2019-10-28T22:27:33.809225:1\t457\t2.94e-05\t4.53\t5.2\t2\t-36\t-16\t-8.47\t-35\t-24.7\t1.71\t-22\t-50\t-26\t0.601\n",
      "INFO:nimare.meta.ibma:Cleaning up...\n",
      "/opt/miniconda-latest/envs/neuro_py36/lib/python3.6/site-packages/nilearn/_utils/cache_mixin.py:232: DeprecationWarning: The 'cachedir' attribute has been deprecated in version 0.12 and will be removed in version 0.14.\n",
      "Use os.path.join(memory.location, 'joblib') attribute instead.\n",
      "  if (memory.cachedir is None and memory_level is not None\n"
     ]
    }
   ],
   "source": [
    "# Unthresholded MFX image\n",
    "img_t_MFX = fun.run_MFX_GLM(ds_dict)"
   ]
  },
  {
   "cell_type": "code",
   "execution_count": 21,
   "metadata": {
    "scrolled": true
   },
   "outputs": [],
   "source": [
    "# Thresholded MFX image\n",
    "img_t_MFX_thr = thresholding.map_threshold(img_t_MFX, level=level,\n",
    "                                           height_control=height_control,\n",
    "                                           cluster_threshold=cluster_threshold)[0]"
   ]
  },
  {
   "cell_type": "code",
   "execution_count": 22,
   "metadata": {},
   "outputs": [
    {
     "data": {
      "image/png": "[encoded data removed]",
      "text/plain": [
       "<Figure size 720x360 with 5 Axes>"
      ]
     },
     "metadata": {
      "needs_background": "light"
     },
     "output_type": "display_data"
    },
    {
     "data": {
      "image/png": "[encoded data removed]",
      "text/plain": [
       "<Figure size 720x360 with 5 Axes>"
      ]
     },
     "metadata": {
      "needs_background": "light"
     },
     "output_type": "display_data"
    }
   ],
   "source": [
    "meta_analysis = { \n",
    "    #'ALE': img_ale,\n",
    "    #'ALE thresholded': img_ale_thr,\n",
    "    't MFX unthresholded': img_t_MFX,\n",
    "    't MFX thresholded': img_t_MFX_thr,\n",
    "}\n",
    "for name, img in meta_analysis.items():\n",
    "    plotting.plot_stat_map(img, title=name, cut_coords=cut_coords,\n",
    "                          figure=plt.figure(figsize=(10,5)))   \n",
    "    plt.savefig('../figures/results_%s.png' %name.replace(' ', '-'))"
   ]
  },
  {
   "cell_type": "code",
   "execution_count": null,
   "metadata": {},
   "outputs": [],
   "source": []
  }
 ],
 "metadata": {
  "kernelspec": {
   "display_name": "Python 3",
   "language": "python",
   "name": "python3"
  },
  "language_info": {
   "codemirror_mode": {
    "name": "ipython",
    "version": 3
   },
   "file_extension": ".py",
   "mimetype": "text/x-python",
   "name": "python",
   "nbconvert_exporter": "python",
   "pygments_lexer": "ipython3",
   "version": "3.6.7"
  }
 },
 "nbformat": 4,
 "nbformat_minor": 2
}
